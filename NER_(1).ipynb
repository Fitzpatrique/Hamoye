{
  "nbformat": 4,
  "nbformat_minor": 0,
  "metadata": {
    "environment": {
      "name": "tf2-gpu.2-1.m55",
      "type": "gcloud",
      "uri": "gcr.io/deeplearning-platform-release/tf2-gpu.2-1:m55"
    },
    "kernelspec": {
      "display_name": "Python 3",
      "language": "python",
      "name": "python3"
    },
    "language_info": {
      "codemirror_mode": {
        "name": "ipython",
        "version": 3
      },
      "file_extension": ".py",
      "mimetype": "text/x-python",
      "name": "python",
      "nbconvert_exporter": "python",
      "pygments_lexer": "ipython3",
      "version": "3.7.8"
    },
    "colab": {
      "name": "NER (1).ipynb",
      "provenance": [],
      "include_colab_link": true
    }
  },
  "cells": [
    {
      "cell_type": "markdown",
      "metadata": {
        "id": "view-in-github",
        "colab_type": "text"
      },
      "source": [
        "<a href=\"https://colab.research.google.com/github/Fitzpatrique/Hamoye/blob/master/NER_(1).ipynb\" target=\"_parent\"><img src=\"https://colab.research.google.com/assets/colab-badge.svg\" alt=\"Open In Colab\"/></a>"
      ]
    },
    {
      "cell_type": "code",
      "metadata": {
        "id": "UCbux-DleSEu"
      },
      "source": [
        "EXPERIMENT_NAME = 'named-entity-recognition_1'\n",
        "BUCKET = 'ner-project-289117-kubeflowpipelines-default'"
      ],
      "execution_count": null,
      "outputs": []
    },
    {
      "cell_type": "code",
      "metadata": {
        "id": "xmfjTEfweSE6"
      },
      "source": [
        "import kfp\n",
        "from kfp import compiler\n",
        "import kfp.components as comp\n",
        "import kfp.dsl as dsl\n",
        "from kfp import gcp"
      ],
      "execution_count": null,
      "outputs": []
    },
    {
      "cell_type": "code",
      "metadata": {
        "id": "6SkvsqAseSFD",
        "outputId": "e6f56320-d91a-4b56-c841-a2c1f5121bd9"
      },
      "source": [
        "preprocess_operation = comp.load_component_from_url(\n",
        "    'https://raw.githubusercontent.com/Fitzpatrique/Portfolio/master/examples/named_entity_recognition/components/preprocess/component.yaml')\n",
        "help(preprocess_operation)\n",
        "\n",
        "train_operation = kfp.components.load_component_from_url(\n",
        "    'https://raw.githubusercontent.com/Fitzpatrique/Portfolio/master/examples/named_entity_recognition/components/train/component.yaml')\n",
        "help(train_operation)\n",
        "\n",
        "ai_platform_deploy_operation = comp.load_component_from_url(\n",
        "    'https://raw.githubusercontent.com/Fitzpatrique/Portfolio/master/examples/named_entity_recognition/components/deploy/component.yaml')\n",
        "help(ai_platform_deploy_operation)"
      ],
      "execution_count": null,
      "outputs": [
        {
          "output_type": "stream",
          "text": [
            "Help on function preprocess:\n",
            "\n",
            "preprocess(input_1_uri: 'GCSPath', output_x_uri_template: 'GCSPath', output_y_uri_template: 'GCSPath', output_preprocessing_state_uri_template: 'GCSPath')\n",
            "    preprocess\n",
            "    Performs the IOB preprocessing.\n",
            "\n",
            "Help on function train:\n",
            "\n",
            "train(input_x_uri: 'GCSPath', input_y_uri: 'GCSPath', input_job_dir_uri: 'GCSPath', input_tags: str, input_words: str, input_dropout, output_model_uri_template: 'GCSPath')\n",
            "    train\n",
            "    Trains the NER Bi-LSTM.\n",
            "\n",
            "Help on function deploy:\n",
            "\n",
            "deploy(model_path: 'GCSPath', model_name: str, model_region: str, model_version: str, model_runtime_version: str, model_prediction_class: str, model_python_version: str, model_package_uris: 'GCSpath')\n",
            "    deploy\n",
            "    Deploy the model with custom prediction route\n",
            "\n"
          ],
          "name": "stdout"
        }
      ]
    },
    {
      "cell_type": "code",
      "metadata": {
        "id": "n8ztiywMeSFP"
      },
      "source": [
        "@dsl.pipeline(\n",
        "  name='Named Entity Recognition Pipeline',\n",
        "  description='Performs preprocessing, training and deployment.'\n",
        ")\n",
        "def pipeline():\n",
        "    \n",
        "    preprocess_task = preprocess_operation(\n",
        "        input_1_uri='gs://kubeflow-examples-data/named_entity_recognition_dataset/ner.csv',\n",
        "        output_y_uri_template=\"gs://{}/{{workflow.uid}}/preprocess/y/data\".format(BUCKET),\n",
        "        output_x_uri_template=\"gs://{}/{{workflow.uid}}/preprocess/x/data\".format(BUCKET),\n",
        "        output_preprocessing_state_uri_template=\"gs://{}/{{workflow.uid}}/model\".format(BUCKET)\n",
        "    ).apply(kfp.gcp.use_gcp_secret('user-gcp-sa')) \n",
        "    \n",
        "    \n",
        "    train_task = train_operation(\n",
        "        input_x_uri=preprocess_task.outputs['output_x_uri'],\n",
        "        input_y_uri=preprocess_task.outputs['output_y_uri'],\n",
        "        input_job_dir_uri=\"gs://{}/{{workflow.uid}}/job\".format(BUCKET),\n",
        "        input_tags=preprocess_task.outputs['output_tags'],\n",
        "        input_words=preprocess_task.outputs['output_words'],\n",
        "        input_dropout=0.1,\n",
        "        output_model_uri_template=\"gs://{}/{{workflow.uid}}/model\".format(BUCKET)\n",
        "    ).apply(kfp.gcp.use_gcp_secret('user-gcp-sa')) \n",
        "    \n",
        "    \n",
        "    deploy_task = ai_platform_deploy_operation(\n",
        "        model_path= train_task.output,\n",
        "        model_name=\"named_entity_recognition_kubeflow\",\n",
        "        model_region=\"us-central1\",\n",
        "        model_version=\"version1\",\n",
        "        model_runtime_version=\"1.13\",\n",
        "        model_prediction_class=\"model_prediction.CustomModelPrediction\",\n",
        "        model_python_version=\"3.5\",\n",
        "        model_package_uris=\"gs://{}/routine/custom_prediction_routine-0.2.tar.gz\".format(BUCKET)\n",
        "    ).apply(kfp.gcp.use_gcp_secret('user-gcp-sa'))"
      ],
      "execution_count": null,
      "outputs": []
    },
    {
      "cell_type": "code",
      "metadata": {
        "id": "cgk-6EhqeSFX",
        "outputId": "d396c84b-46b5-44f6-db61-1884d9ac3da0"
      },
      "source": [
        "pipeline_func = pipeline\n",
        "#pipeline = kfp.Client().create_run_from_pipeline_func(pipeline, arguments={})\n",
        "\n",
        "# Run the pipeline on a separate Kubeflow Cluster instead\n",
        "# (use if your notebook is not running in Kubeflow - e.x. if using AI Platform Notebooks)\n",
        "pipeline = kfp.Client(host='6e9432b6b27137c1-dot-us-central2.pipelines.googleusercontent.com').create_run_from_pipeline_func(pipeline, arguments={})"
      ],
      "execution_count": null,
      "outputs": [
        {
          "output_type": "stream",
          "text": [
            "/opt/conda/lib/python3.7/site-packages/kfp/components/_data_passing.py:168: UserWarning: Missing type name was inferred as \"Float\" based on the value \"0.1\".\n",
            "  warnings.warn('Missing type name was inferred as \"{}\" based on the value \"{}\".'.format(type_name, str(value)))\n"
          ],
          "name": "stderr"
        },
        {
          "output_type": "display_data",
          "data": {
            "text/html": [
              "Experiment link <a href=\"http://6e9432b6b27137c1-dot-us-central2.pipelines.googleusercontent.com/#/experiments/details/b423dd22-de3b-408d-b5df-114cac249056\" target=\"_blank\" >here</a>"
            ],
            "text/plain": [
              "<IPython.core.display.HTML object>"
            ]
          },
          "metadata": {
            "tags": []
          }
        },
        {
          "output_type": "display_data",
          "data": {
            "text/html": [
              "Run link <a href=\"http://6e9432b6b27137c1-dot-us-central2.pipelines.googleusercontent.com/#/runs/details/55ae9045-73b7-4584-a7b3-ba568dc97392\" target=\"_blank\" >here</a>"
            ],
            "text/plain": [
              "<IPython.core.display.HTML object>"
            ]
          },
          "metadata": {
            "tags": []
          }
        }
      ]
    },
    {
      "cell_type": "code",
      "metadata": {
        "id": "8cJ0r1VXeSFg"
      },
      "source": [
        ""
      ],
      "execution_count": null,
      "outputs": []
    }
  ]
}