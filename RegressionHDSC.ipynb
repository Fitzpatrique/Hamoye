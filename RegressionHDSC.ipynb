{
  "nbformat": 4,
  "nbformat_minor": 0,
  "metadata": {
    "colab": {
      "name": "RegressionHDSC.ipynb",
      "provenance": [],
      "collapsed_sections": []
    },
    "kernelspec": {
      "name": "python3",
      "display_name": "Python 3"
    },
    "accelerator": "GPU"
  },
  "cells": [
    {
      "cell_type": "markdown",
      "metadata": {
        "id": "az_wvRO_WNsB",
        "colab_type": "text"
      },
      "source": [
        "https://bit.ly/HDSC-StageTwoAssessment"
      ]
    },
    {
      "cell_type": "code",
      "metadata": {
        "id": "qX9kmeoxWNTG",
        "colab_type": "code",
        "colab": {}
      },
      "source": [
        ""
      ],
      "execution_count": null,
      "outputs": []
    },
    {
      "cell_type": "code",
      "metadata": {
        "id": "GV0n841UTs1M",
        "colab_type": "code",
        "colab": {}
      },
      "source": [
        "import numpy as np\n",
        "import pandas as pd\n",
        "import matplotlib.pyplot as plt\n",
        "%matplotlib inline"
      ],
      "execution_count": 1,
      "outputs": []
    },
    {
      "cell_type": "code",
      "metadata": {
        "id": "aqW0dfMrL7Xc",
        "colab_type": "code",
        "colab": {}
      },
      "source": [
        "dataframe = pd.read_csv('https://archive.ics.uci.edu/ml/machine-learning-databases/00374/energydata_complete.csv')"
      ],
      "execution_count": 4,
      "outputs": []
    },
    {
      "cell_type": "code",
      "metadata": {
        "id": "5uyca7wiRpIS",
        "colab_type": "code",
        "colab": {
          "base_uri": "https://localhost:8080/",
          "height": 394
        },
        "outputId": "57cb6cab-15d5-4e6f-dc97-ed70c7a307cd"
      },
      "source": [
        "dataframe.head()"
      ],
      "execution_count": 5,
      "outputs": [
        {
          "output_type": "execute_result",
          "data": {
            "text/html": [
              "<div>\n",
              "<style scoped>\n",
              "    .dataframe tbody tr th:only-of-type {\n",
              "        vertical-align: middle;\n",
              "    }\n",
              "\n",
              "    .dataframe tbody tr th {\n",
              "        vertical-align: top;\n",
              "    }\n",
              "\n",
              "    .dataframe thead th {\n",
              "        text-align: right;\n",
              "    }\n",
              "</style>\n",
              "<table border=\"1\" class=\"dataframe\">\n",
              "  <thead>\n",
              "    <tr style=\"text-align: right;\">\n",
              "      <th></th>\n",
              "      <th>date</th>\n",
              "      <th>Appliances</th>\n",
              "      <th>lights</th>\n",
              "      <th>T1</th>\n",
              "      <th>RH_1</th>\n",
              "      <th>T2</th>\n",
              "      <th>RH_2</th>\n",
              "      <th>T3</th>\n",
              "      <th>RH_3</th>\n",
              "      <th>T4</th>\n",
              "      <th>RH_4</th>\n",
              "      <th>T5</th>\n",
              "      <th>RH_5</th>\n",
              "      <th>T6</th>\n",
              "      <th>RH_6</th>\n",
              "      <th>T7</th>\n",
              "      <th>RH_7</th>\n",
              "      <th>T8</th>\n",
              "      <th>RH_8</th>\n",
              "      <th>T9</th>\n",
              "      <th>RH_9</th>\n",
              "      <th>T_out</th>\n",
              "      <th>Press_mm_hg</th>\n",
              "      <th>RH_out</th>\n",
              "      <th>Windspeed</th>\n",
              "      <th>Visibility</th>\n",
              "      <th>Tdewpoint</th>\n",
              "      <th>rv1</th>\n",
              "      <th>rv2</th>\n",
              "    </tr>\n",
              "  </thead>\n",
              "  <tbody>\n",
              "    <tr>\n",
              "      <th>0</th>\n",
              "      <td>2016-01-11 17:00:00</td>\n",
              "      <td>60</td>\n",
              "      <td>30</td>\n",
              "      <td>19.89</td>\n",
              "      <td>47.596667</td>\n",
              "      <td>19.2</td>\n",
              "      <td>44.790000</td>\n",
              "      <td>19.79</td>\n",
              "      <td>44.730000</td>\n",
              "      <td>19.000000</td>\n",
              "      <td>45.566667</td>\n",
              "      <td>17.166667</td>\n",
              "      <td>55.20</td>\n",
              "      <td>7.026667</td>\n",
              "      <td>84.256667</td>\n",
              "      <td>17.200000</td>\n",
              "      <td>41.626667</td>\n",
              "      <td>18.2</td>\n",
              "      <td>48.900000</td>\n",
              "      <td>17.033333</td>\n",
              "      <td>45.53</td>\n",
              "      <td>6.600000</td>\n",
              "      <td>733.5</td>\n",
              "      <td>92.0</td>\n",
              "      <td>7.000000</td>\n",
              "      <td>63.000000</td>\n",
              "      <td>5.3</td>\n",
              "      <td>13.275433</td>\n",
              "      <td>13.275433</td>\n",
              "    </tr>\n",
              "    <tr>\n",
              "      <th>1</th>\n",
              "      <td>2016-01-11 17:10:00</td>\n",
              "      <td>60</td>\n",
              "      <td>30</td>\n",
              "      <td>19.89</td>\n",
              "      <td>46.693333</td>\n",
              "      <td>19.2</td>\n",
              "      <td>44.722500</td>\n",
              "      <td>19.79</td>\n",
              "      <td>44.790000</td>\n",
              "      <td>19.000000</td>\n",
              "      <td>45.992500</td>\n",
              "      <td>17.166667</td>\n",
              "      <td>55.20</td>\n",
              "      <td>6.833333</td>\n",
              "      <td>84.063333</td>\n",
              "      <td>17.200000</td>\n",
              "      <td>41.560000</td>\n",
              "      <td>18.2</td>\n",
              "      <td>48.863333</td>\n",
              "      <td>17.066667</td>\n",
              "      <td>45.56</td>\n",
              "      <td>6.483333</td>\n",
              "      <td>733.6</td>\n",
              "      <td>92.0</td>\n",
              "      <td>6.666667</td>\n",
              "      <td>59.166667</td>\n",
              "      <td>5.2</td>\n",
              "      <td>18.606195</td>\n",
              "      <td>18.606195</td>\n",
              "    </tr>\n",
              "    <tr>\n",
              "      <th>2</th>\n",
              "      <td>2016-01-11 17:20:00</td>\n",
              "      <td>50</td>\n",
              "      <td>30</td>\n",
              "      <td>19.89</td>\n",
              "      <td>46.300000</td>\n",
              "      <td>19.2</td>\n",
              "      <td>44.626667</td>\n",
              "      <td>19.79</td>\n",
              "      <td>44.933333</td>\n",
              "      <td>18.926667</td>\n",
              "      <td>45.890000</td>\n",
              "      <td>17.166667</td>\n",
              "      <td>55.09</td>\n",
              "      <td>6.560000</td>\n",
              "      <td>83.156667</td>\n",
              "      <td>17.200000</td>\n",
              "      <td>41.433333</td>\n",
              "      <td>18.2</td>\n",
              "      <td>48.730000</td>\n",
              "      <td>17.000000</td>\n",
              "      <td>45.50</td>\n",
              "      <td>6.366667</td>\n",
              "      <td>733.7</td>\n",
              "      <td>92.0</td>\n",
              "      <td>6.333333</td>\n",
              "      <td>55.333333</td>\n",
              "      <td>5.1</td>\n",
              "      <td>28.642668</td>\n",
              "      <td>28.642668</td>\n",
              "    </tr>\n",
              "    <tr>\n",
              "      <th>3</th>\n",
              "      <td>2016-01-11 17:30:00</td>\n",
              "      <td>50</td>\n",
              "      <td>40</td>\n",
              "      <td>19.89</td>\n",
              "      <td>46.066667</td>\n",
              "      <td>19.2</td>\n",
              "      <td>44.590000</td>\n",
              "      <td>19.79</td>\n",
              "      <td>45.000000</td>\n",
              "      <td>18.890000</td>\n",
              "      <td>45.723333</td>\n",
              "      <td>17.166667</td>\n",
              "      <td>55.09</td>\n",
              "      <td>6.433333</td>\n",
              "      <td>83.423333</td>\n",
              "      <td>17.133333</td>\n",
              "      <td>41.290000</td>\n",
              "      <td>18.1</td>\n",
              "      <td>48.590000</td>\n",
              "      <td>17.000000</td>\n",
              "      <td>45.40</td>\n",
              "      <td>6.250000</td>\n",
              "      <td>733.8</td>\n",
              "      <td>92.0</td>\n",
              "      <td>6.000000</td>\n",
              "      <td>51.500000</td>\n",
              "      <td>5.0</td>\n",
              "      <td>45.410389</td>\n",
              "      <td>45.410389</td>\n",
              "    </tr>\n",
              "    <tr>\n",
              "      <th>4</th>\n",
              "      <td>2016-01-11 17:40:00</td>\n",
              "      <td>60</td>\n",
              "      <td>40</td>\n",
              "      <td>19.89</td>\n",
              "      <td>46.333333</td>\n",
              "      <td>19.2</td>\n",
              "      <td>44.530000</td>\n",
              "      <td>19.79</td>\n",
              "      <td>45.000000</td>\n",
              "      <td>18.890000</td>\n",
              "      <td>45.530000</td>\n",
              "      <td>17.200000</td>\n",
              "      <td>55.09</td>\n",
              "      <td>6.366667</td>\n",
              "      <td>84.893333</td>\n",
              "      <td>17.200000</td>\n",
              "      <td>41.230000</td>\n",
              "      <td>18.1</td>\n",
              "      <td>48.590000</td>\n",
              "      <td>17.000000</td>\n",
              "      <td>45.40</td>\n",
              "      <td>6.133333</td>\n",
              "      <td>733.9</td>\n",
              "      <td>92.0</td>\n",
              "      <td>5.666667</td>\n",
              "      <td>47.666667</td>\n",
              "      <td>4.9</td>\n",
              "      <td>10.084097</td>\n",
              "      <td>10.084097</td>\n",
              "    </tr>\n",
              "  </tbody>\n",
              "</table>\n",
              "</div>"
            ],
            "text/plain": [
              "                  date  Appliances  lights  ...  Tdewpoint        rv1        rv2\n",
              "0  2016-01-11 17:00:00          60      30  ...        5.3  13.275433  13.275433\n",
              "1  2016-01-11 17:10:00          60      30  ...        5.2  18.606195  18.606195\n",
              "2  2016-01-11 17:20:00          50      30  ...        5.1  28.642668  28.642668\n",
              "3  2016-01-11 17:30:00          50      40  ...        5.0  45.410389  45.410389\n",
              "4  2016-01-11 17:40:00          60      40  ...        4.9  10.084097  10.084097\n",
              "\n",
              "[5 rows x 29 columns]"
            ]
          },
          "metadata": {
            "tags": []
          },
          "execution_count": 5
        }
      ]
    },
    {
      "cell_type": "code",
      "metadata": {
        "id": "PxIgNzqSSAJx",
        "colab_type": "code",
        "colab": {}
      },
      "source": [
        "dataframe.drop(['date','lights'], axis=1,inplace=True)"
      ],
      "execution_count": 15,
      "outputs": []
    },
    {
      "cell_type": "code",
      "metadata": {
        "id": "qsqg7lyCSdzJ",
        "colab_type": "code",
        "colab": {
          "base_uri": "https://localhost:8080/",
          "height": 224
        },
        "outputId": "dbb06f77-a348-4d50-9801-0a23e20851b1"
      },
      "source": [
        "dataframe.head()"
      ],
      "execution_count": 16,
      "outputs": [
        {
          "output_type": "execute_result",
          "data": {
            "text/html": [
              "<div>\n",
              "<style scoped>\n",
              "    .dataframe tbody tr th:only-of-type {\n",
              "        vertical-align: middle;\n",
              "    }\n",
              "\n",
              "    .dataframe tbody tr th {\n",
              "        vertical-align: top;\n",
              "    }\n",
              "\n",
              "    .dataframe thead th {\n",
              "        text-align: right;\n",
              "    }\n",
              "</style>\n",
              "<table border=\"1\" class=\"dataframe\">\n",
              "  <thead>\n",
              "    <tr style=\"text-align: right;\">\n",
              "      <th></th>\n",
              "      <th>Appliances</th>\n",
              "      <th>T1</th>\n",
              "      <th>RH_1</th>\n",
              "      <th>T2</th>\n",
              "      <th>RH_2</th>\n",
              "      <th>T3</th>\n",
              "      <th>RH_3</th>\n",
              "      <th>T4</th>\n",
              "      <th>RH_4</th>\n",
              "      <th>T5</th>\n",
              "      <th>RH_5</th>\n",
              "      <th>T6</th>\n",
              "      <th>RH_6</th>\n",
              "      <th>T7</th>\n",
              "      <th>RH_7</th>\n",
              "      <th>T8</th>\n",
              "      <th>RH_8</th>\n",
              "      <th>T9</th>\n",
              "      <th>RH_9</th>\n",
              "      <th>T_out</th>\n",
              "      <th>Press_mm_hg</th>\n",
              "      <th>RH_out</th>\n",
              "      <th>Windspeed</th>\n",
              "      <th>Visibility</th>\n",
              "      <th>Tdewpoint</th>\n",
              "      <th>rv1</th>\n",
              "      <th>rv2</th>\n",
              "    </tr>\n",
              "  </thead>\n",
              "  <tbody>\n",
              "    <tr>\n",
              "      <th>0</th>\n",
              "      <td>60</td>\n",
              "      <td>19.89</td>\n",
              "      <td>47.596667</td>\n",
              "      <td>19.2</td>\n",
              "      <td>44.790000</td>\n",
              "      <td>19.79</td>\n",
              "      <td>44.730000</td>\n",
              "      <td>19.000000</td>\n",
              "      <td>45.566667</td>\n",
              "      <td>17.166667</td>\n",
              "      <td>55.20</td>\n",
              "      <td>7.026667</td>\n",
              "      <td>84.256667</td>\n",
              "      <td>17.200000</td>\n",
              "      <td>41.626667</td>\n",
              "      <td>18.2</td>\n",
              "      <td>48.900000</td>\n",
              "      <td>17.033333</td>\n",
              "      <td>45.53</td>\n",
              "      <td>6.600000</td>\n",
              "      <td>733.5</td>\n",
              "      <td>92.0</td>\n",
              "      <td>7.000000</td>\n",
              "      <td>63.000000</td>\n",
              "      <td>5.3</td>\n",
              "      <td>13.275433</td>\n",
              "      <td>13.275433</td>\n",
              "    </tr>\n",
              "    <tr>\n",
              "      <th>1</th>\n",
              "      <td>60</td>\n",
              "      <td>19.89</td>\n",
              "      <td>46.693333</td>\n",
              "      <td>19.2</td>\n",
              "      <td>44.722500</td>\n",
              "      <td>19.79</td>\n",
              "      <td>44.790000</td>\n",
              "      <td>19.000000</td>\n",
              "      <td>45.992500</td>\n",
              "      <td>17.166667</td>\n",
              "      <td>55.20</td>\n",
              "      <td>6.833333</td>\n",
              "      <td>84.063333</td>\n",
              "      <td>17.200000</td>\n",
              "      <td>41.560000</td>\n",
              "      <td>18.2</td>\n",
              "      <td>48.863333</td>\n",
              "      <td>17.066667</td>\n",
              "      <td>45.56</td>\n",
              "      <td>6.483333</td>\n",
              "      <td>733.6</td>\n",
              "      <td>92.0</td>\n",
              "      <td>6.666667</td>\n",
              "      <td>59.166667</td>\n",
              "      <td>5.2</td>\n",
              "      <td>18.606195</td>\n",
              "      <td>18.606195</td>\n",
              "    </tr>\n",
              "    <tr>\n",
              "      <th>2</th>\n",
              "      <td>50</td>\n",
              "      <td>19.89</td>\n",
              "      <td>46.300000</td>\n",
              "      <td>19.2</td>\n",
              "      <td>44.626667</td>\n",
              "      <td>19.79</td>\n",
              "      <td>44.933333</td>\n",
              "      <td>18.926667</td>\n",
              "      <td>45.890000</td>\n",
              "      <td>17.166667</td>\n",
              "      <td>55.09</td>\n",
              "      <td>6.560000</td>\n",
              "      <td>83.156667</td>\n",
              "      <td>17.200000</td>\n",
              "      <td>41.433333</td>\n",
              "      <td>18.2</td>\n",
              "      <td>48.730000</td>\n",
              "      <td>17.000000</td>\n",
              "      <td>45.50</td>\n",
              "      <td>6.366667</td>\n",
              "      <td>733.7</td>\n",
              "      <td>92.0</td>\n",
              "      <td>6.333333</td>\n",
              "      <td>55.333333</td>\n",
              "      <td>5.1</td>\n",
              "      <td>28.642668</td>\n",
              "      <td>28.642668</td>\n",
              "    </tr>\n",
              "    <tr>\n",
              "      <th>3</th>\n",
              "      <td>50</td>\n",
              "      <td>19.89</td>\n",
              "      <td>46.066667</td>\n",
              "      <td>19.2</td>\n",
              "      <td>44.590000</td>\n",
              "      <td>19.79</td>\n",
              "      <td>45.000000</td>\n",
              "      <td>18.890000</td>\n",
              "      <td>45.723333</td>\n",
              "      <td>17.166667</td>\n",
              "      <td>55.09</td>\n",
              "      <td>6.433333</td>\n",
              "      <td>83.423333</td>\n",
              "      <td>17.133333</td>\n",
              "      <td>41.290000</td>\n",
              "      <td>18.1</td>\n",
              "      <td>48.590000</td>\n",
              "      <td>17.000000</td>\n",
              "      <td>45.40</td>\n",
              "      <td>6.250000</td>\n",
              "      <td>733.8</td>\n",
              "      <td>92.0</td>\n",
              "      <td>6.000000</td>\n",
              "      <td>51.500000</td>\n",
              "      <td>5.0</td>\n",
              "      <td>45.410389</td>\n",
              "      <td>45.410389</td>\n",
              "    </tr>\n",
              "    <tr>\n",
              "      <th>4</th>\n",
              "      <td>60</td>\n",
              "      <td>19.89</td>\n",
              "      <td>46.333333</td>\n",
              "      <td>19.2</td>\n",
              "      <td>44.530000</td>\n",
              "      <td>19.79</td>\n",
              "      <td>45.000000</td>\n",
              "      <td>18.890000</td>\n",
              "      <td>45.530000</td>\n",
              "      <td>17.200000</td>\n",
              "      <td>55.09</td>\n",
              "      <td>6.366667</td>\n",
              "      <td>84.893333</td>\n",
              "      <td>17.200000</td>\n",
              "      <td>41.230000</td>\n",
              "      <td>18.1</td>\n",
              "      <td>48.590000</td>\n",
              "      <td>17.000000</td>\n",
              "      <td>45.40</td>\n",
              "      <td>6.133333</td>\n",
              "      <td>733.9</td>\n",
              "      <td>92.0</td>\n",
              "      <td>5.666667</td>\n",
              "      <td>47.666667</td>\n",
              "      <td>4.9</td>\n",
              "      <td>10.084097</td>\n",
              "      <td>10.084097</td>\n",
              "    </tr>\n",
              "  </tbody>\n",
              "</table>\n",
              "</div>"
            ],
            "text/plain": [
              "   Appliances     T1       RH_1  ...  Tdewpoint        rv1        rv2\n",
              "0          60  19.89  47.596667  ...        5.3  13.275433  13.275433\n",
              "1          60  19.89  46.693333  ...        5.2  18.606195  18.606195\n",
              "2          50  19.89  46.300000  ...        5.1  28.642668  28.642668\n",
              "3          50  19.89  46.066667  ...        5.0  45.410389  45.410389\n",
              "4          60  19.89  46.333333  ...        4.9  10.084097  10.084097\n",
              "\n",
              "[5 rows x 27 columns]"
            ]
          },
          "metadata": {
            "tags": []
          },
          "execution_count": 16
        }
      ]
    },
    {
      "cell_type": "code",
      "metadata": {
        "id": "K-4hfltjWk_6",
        "colab_type": "code",
        "colab": {
          "base_uri": "https://localhost:8080/",
          "height": 595
        },
        "outputId": "9f0c065e-b3d3-4f8f-893c-2c8a5d2aa5e1"
      },
      "source": [
        "dataframe.info()"
      ],
      "execution_count": 18,
      "outputs": [
        {
          "output_type": "stream",
          "text": [
            "<class 'pandas.core.frame.DataFrame'>\n",
            "RangeIndex: 19735 entries, 0 to 19734\n",
            "Data columns (total 27 columns):\n",
            " #   Column       Non-Null Count  Dtype  \n",
            "---  ------       --------------  -----  \n",
            " 0   Appliances   19735 non-null  int64  \n",
            " 1   T1           19735 non-null  float64\n",
            " 2   RH_1         19735 non-null  float64\n",
            " 3   T2           19735 non-null  float64\n",
            " 4   RH_2         19735 non-null  float64\n",
            " 5   T3           19735 non-null  float64\n",
            " 6   RH_3         19735 non-null  float64\n",
            " 7   T4           19735 non-null  float64\n",
            " 8   RH_4         19735 non-null  float64\n",
            " 9   T5           19735 non-null  float64\n",
            " 10  RH_5         19735 non-null  float64\n",
            " 11  T6           19735 non-null  float64\n",
            " 12  RH_6         19735 non-null  float64\n",
            " 13  T7           19735 non-null  float64\n",
            " 14  RH_7         19735 non-null  float64\n",
            " 15  T8           19735 non-null  float64\n",
            " 16  RH_8         19735 non-null  float64\n",
            " 17  T9           19735 non-null  float64\n",
            " 18  RH_9         19735 non-null  float64\n",
            " 19  T_out        19735 non-null  float64\n",
            " 20  Press_mm_hg  19735 non-null  float64\n",
            " 21  RH_out       19735 non-null  float64\n",
            " 22  Windspeed    19735 non-null  float64\n",
            " 23  Visibility   19735 non-null  float64\n",
            " 24  Tdewpoint    19735 non-null  float64\n",
            " 25  rv1          19735 non-null  float64\n",
            " 26  rv2          19735 non-null  float64\n",
            "dtypes: float64(26), int64(1)\n",
            "memory usage: 4.1 MB\n"
          ],
          "name": "stdout"
        }
      ]
    },
    {
      "cell_type": "code",
      "metadata": {
        "id": "jhGNIJRdSnUE",
        "colab_type": "code",
        "colab": {
          "base_uri": "https://localhost:8080/",
          "height": 317
        },
        "outputId": "56c9dd9c-2695-44b6-fe59-c8310b9d86f2"
      },
      "source": [
        "dataframe.describe()"
      ],
      "execution_count": 17,
      "outputs": [
        {
          "output_type": "execute_result",
          "data": {
            "text/html": [
              "<div>\n",
              "<style scoped>\n",
              "    .dataframe tbody tr th:only-of-type {\n",
              "        vertical-align: middle;\n",
              "    }\n",
              "\n",
              "    .dataframe tbody tr th {\n",
              "        vertical-align: top;\n",
              "    }\n",
              "\n",
              "    .dataframe thead th {\n",
              "        text-align: right;\n",
              "    }\n",
              "</style>\n",
              "<table border=\"1\" class=\"dataframe\">\n",
              "  <thead>\n",
              "    <tr style=\"text-align: right;\">\n",
              "      <th></th>\n",
              "      <th>Appliances</th>\n",
              "      <th>T1</th>\n",
              "      <th>RH_1</th>\n",
              "      <th>T2</th>\n",
              "      <th>RH_2</th>\n",
              "      <th>T3</th>\n",
              "      <th>RH_3</th>\n",
              "      <th>T4</th>\n",
              "      <th>RH_4</th>\n",
              "      <th>T5</th>\n",
              "      <th>RH_5</th>\n",
              "      <th>T6</th>\n",
              "      <th>RH_6</th>\n",
              "      <th>T7</th>\n",
              "      <th>RH_7</th>\n",
              "      <th>T8</th>\n",
              "      <th>RH_8</th>\n",
              "      <th>T9</th>\n",
              "      <th>RH_9</th>\n",
              "      <th>T_out</th>\n",
              "      <th>Press_mm_hg</th>\n",
              "      <th>RH_out</th>\n",
              "      <th>Windspeed</th>\n",
              "      <th>Visibility</th>\n",
              "      <th>Tdewpoint</th>\n",
              "      <th>rv1</th>\n",
              "      <th>rv2</th>\n",
              "    </tr>\n",
              "  </thead>\n",
              "  <tbody>\n",
              "    <tr>\n",
              "      <th>count</th>\n",
              "      <td>19735.000000</td>\n",
              "      <td>19735.000000</td>\n",
              "      <td>19735.000000</td>\n",
              "      <td>19735.000000</td>\n",
              "      <td>19735.000000</td>\n",
              "      <td>19735.000000</td>\n",
              "      <td>19735.000000</td>\n",
              "      <td>19735.000000</td>\n",
              "      <td>19735.000000</td>\n",
              "      <td>19735.000000</td>\n",
              "      <td>19735.000000</td>\n",
              "      <td>19735.000000</td>\n",
              "      <td>19735.000000</td>\n",
              "      <td>19735.000000</td>\n",
              "      <td>19735.000000</td>\n",
              "      <td>19735.000000</td>\n",
              "      <td>19735.000000</td>\n",
              "      <td>19735.000000</td>\n",
              "      <td>19735.000000</td>\n",
              "      <td>19735.000000</td>\n",
              "      <td>19735.000000</td>\n",
              "      <td>19735.000000</td>\n",
              "      <td>19735.000000</td>\n",
              "      <td>19735.000000</td>\n",
              "      <td>19735.000000</td>\n",
              "      <td>19735.000000</td>\n",
              "      <td>19735.000000</td>\n",
              "    </tr>\n",
              "    <tr>\n",
              "      <th>mean</th>\n",
              "      <td>97.694958</td>\n",
              "      <td>21.686571</td>\n",
              "      <td>40.259739</td>\n",
              "      <td>20.341219</td>\n",
              "      <td>40.420420</td>\n",
              "      <td>22.267611</td>\n",
              "      <td>39.242500</td>\n",
              "      <td>20.855335</td>\n",
              "      <td>39.026904</td>\n",
              "      <td>19.592106</td>\n",
              "      <td>50.949283</td>\n",
              "      <td>7.910939</td>\n",
              "      <td>54.609083</td>\n",
              "      <td>20.267106</td>\n",
              "      <td>35.388200</td>\n",
              "      <td>22.029107</td>\n",
              "      <td>42.936165</td>\n",
              "      <td>19.485828</td>\n",
              "      <td>41.552401</td>\n",
              "      <td>7.411665</td>\n",
              "      <td>755.522602</td>\n",
              "      <td>79.750418</td>\n",
              "      <td>4.039752</td>\n",
              "      <td>38.330834</td>\n",
              "      <td>3.760707</td>\n",
              "      <td>24.988033</td>\n",
              "      <td>24.988033</td>\n",
              "    </tr>\n",
              "    <tr>\n",
              "      <th>std</th>\n",
              "      <td>102.524891</td>\n",
              "      <td>1.606066</td>\n",
              "      <td>3.979299</td>\n",
              "      <td>2.192974</td>\n",
              "      <td>4.069813</td>\n",
              "      <td>2.006111</td>\n",
              "      <td>3.254576</td>\n",
              "      <td>2.042884</td>\n",
              "      <td>4.341321</td>\n",
              "      <td>1.844623</td>\n",
              "      <td>9.022034</td>\n",
              "      <td>6.090347</td>\n",
              "      <td>31.149806</td>\n",
              "      <td>2.109993</td>\n",
              "      <td>5.114208</td>\n",
              "      <td>1.956162</td>\n",
              "      <td>5.224361</td>\n",
              "      <td>2.014712</td>\n",
              "      <td>4.151497</td>\n",
              "      <td>5.317409</td>\n",
              "      <td>7.399441</td>\n",
              "      <td>14.901088</td>\n",
              "      <td>2.451221</td>\n",
              "      <td>11.794719</td>\n",
              "      <td>4.194648</td>\n",
              "      <td>14.496634</td>\n",
              "      <td>14.496634</td>\n",
              "    </tr>\n",
              "    <tr>\n",
              "      <th>min</th>\n",
              "      <td>10.000000</td>\n",
              "      <td>16.790000</td>\n",
              "      <td>27.023333</td>\n",
              "      <td>16.100000</td>\n",
              "      <td>20.463333</td>\n",
              "      <td>17.200000</td>\n",
              "      <td>28.766667</td>\n",
              "      <td>15.100000</td>\n",
              "      <td>27.660000</td>\n",
              "      <td>15.330000</td>\n",
              "      <td>29.815000</td>\n",
              "      <td>-6.065000</td>\n",
              "      <td>1.000000</td>\n",
              "      <td>15.390000</td>\n",
              "      <td>23.200000</td>\n",
              "      <td>16.306667</td>\n",
              "      <td>29.600000</td>\n",
              "      <td>14.890000</td>\n",
              "      <td>29.166667</td>\n",
              "      <td>-5.000000</td>\n",
              "      <td>729.300000</td>\n",
              "      <td>24.000000</td>\n",
              "      <td>0.000000</td>\n",
              "      <td>1.000000</td>\n",
              "      <td>-6.600000</td>\n",
              "      <td>0.005322</td>\n",
              "      <td>0.005322</td>\n",
              "    </tr>\n",
              "    <tr>\n",
              "      <th>25%</th>\n",
              "      <td>50.000000</td>\n",
              "      <td>20.760000</td>\n",
              "      <td>37.333333</td>\n",
              "      <td>18.790000</td>\n",
              "      <td>37.900000</td>\n",
              "      <td>20.790000</td>\n",
              "      <td>36.900000</td>\n",
              "      <td>19.530000</td>\n",
              "      <td>35.530000</td>\n",
              "      <td>18.277500</td>\n",
              "      <td>45.400000</td>\n",
              "      <td>3.626667</td>\n",
              "      <td>30.025000</td>\n",
              "      <td>18.700000</td>\n",
              "      <td>31.500000</td>\n",
              "      <td>20.790000</td>\n",
              "      <td>39.066667</td>\n",
              "      <td>18.000000</td>\n",
              "      <td>38.500000</td>\n",
              "      <td>3.666667</td>\n",
              "      <td>750.933333</td>\n",
              "      <td>70.333333</td>\n",
              "      <td>2.000000</td>\n",
              "      <td>29.000000</td>\n",
              "      <td>0.900000</td>\n",
              "      <td>12.497889</td>\n",
              "      <td>12.497889</td>\n",
              "    </tr>\n",
              "    <tr>\n",
              "      <th>50%</th>\n",
              "      <td>60.000000</td>\n",
              "      <td>21.600000</td>\n",
              "      <td>39.656667</td>\n",
              "      <td>20.000000</td>\n",
              "      <td>40.500000</td>\n",
              "      <td>22.100000</td>\n",
              "      <td>38.530000</td>\n",
              "      <td>20.666667</td>\n",
              "      <td>38.400000</td>\n",
              "      <td>19.390000</td>\n",
              "      <td>49.090000</td>\n",
              "      <td>7.300000</td>\n",
              "      <td>55.290000</td>\n",
              "      <td>20.033333</td>\n",
              "      <td>34.863333</td>\n",
              "      <td>22.100000</td>\n",
              "      <td>42.375000</td>\n",
              "      <td>19.390000</td>\n",
              "      <td>40.900000</td>\n",
              "      <td>6.916667</td>\n",
              "      <td>756.100000</td>\n",
              "      <td>83.666667</td>\n",
              "      <td>3.666667</td>\n",
              "      <td>40.000000</td>\n",
              "      <td>3.433333</td>\n",
              "      <td>24.897653</td>\n",
              "      <td>24.897653</td>\n",
              "    </tr>\n",
              "    <tr>\n",
              "      <th>75%</th>\n",
              "      <td>100.000000</td>\n",
              "      <td>22.600000</td>\n",
              "      <td>43.066667</td>\n",
              "      <td>21.500000</td>\n",
              "      <td>43.260000</td>\n",
              "      <td>23.290000</td>\n",
              "      <td>41.760000</td>\n",
              "      <td>22.100000</td>\n",
              "      <td>42.156667</td>\n",
              "      <td>20.619643</td>\n",
              "      <td>53.663333</td>\n",
              "      <td>11.256000</td>\n",
              "      <td>83.226667</td>\n",
              "      <td>21.600000</td>\n",
              "      <td>39.000000</td>\n",
              "      <td>23.390000</td>\n",
              "      <td>46.536000</td>\n",
              "      <td>20.600000</td>\n",
              "      <td>44.338095</td>\n",
              "      <td>10.408333</td>\n",
              "      <td>760.933333</td>\n",
              "      <td>91.666667</td>\n",
              "      <td>5.500000</td>\n",
              "      <td>40.000000</td>\n",
              "      <td>6.566667</td>\n",
              "      <td>37.583769</td>\n",
              "      <td>37.583769</td>\n",
              "    </tr>\n",
              "    <tr>\n",
              "      <th>max</th>\n",
              "      <td>1080.000000</td>\n",
              "      <td>26.260000</td>\n",
              "      <td>63.360000</td>\n",
              "      <td>29.856667</td>\n",
              "      <td>56.026667</td>\n",
              "      <td>29.236000</td>\n",
              "      <td>50.163333</td>\n",
              "      <td>26.200000</td>\n",
              "      <td>51.090000</td>\n",
              "      <td>25.795000</td>\n",
              "      <td>96.321667</td>\n",
              "      <td>28.290000</td>\n",
              "      <td>99.900000</td>\n",
              "      <td>26.000000</td>\n",
              "      <td>51.400000</td>\n",
              "      <td>27.230000</td>\n",
              "      <td>58.780000</td>\n",
              "      <td>24.500000</td>\n",
              "      <td>53.326667</td>\n",
              "      <td>26.100000</td>\n",
              "      <td>772.300000</td>\n",
              "      <td>100.000000</td>\n",
              "      <td>14.000000</td>\n",
              "      <td>66.000000</td>\n",
              "      <td>15.500000</td>\n",
              "      <td>49.996530</td>\n",
              "      <td>49.996530</td>\n",
              "    </tr>\n",
              "  </tbody>\n",
              "</table>\n",
              "</div>"
            ],
            "text/plain": [
              "         Appliances            T1  ...           rv1           rv2\n",
              "count  19735.000000  19735.000000  ...  19735.000000  19735.000000\n",
              "mean      97.694958     21.686571  ...     24.988033     24.988033\n",
              "std      102.524891      1.606066  ...     14.496634     14.496634\n",
              "min       10.000000     16.790000  ...      0.005322      0.005322\n",
              "25%       50.000000     20.760000  ...     12.497889     12.497889\n",
              "50%       60.000000     21.600000  ...     24.897653     24.897653\n",
              "75%      100.000000     22.600000  ...     37.583769     37.583769\n",
              "max     1080.000000     26.260000  ...     49.996530     49.996530\n",
              "\n",
              "[8 rows x 27 columns]"
            ]
          },
          "metadata": {
            "tags": []
          },
          "execution_count": 17
        }
      ]
    },
    {
      "cell_type": "code",
      "metadata": {
        "id": "iqBo3m45XguA",
        "colab_type": "code",
        "colab": {
          "base_uri": "https://localhost:8080/",
          "height": 102
        },
        "outputId": "88266a1d-f663-42b5-94f6-edabd474ceba"
      },
      "source": [
        "dataframe.columns"
      ],
      "execution_count": 19,
      "outputs": [
        {
          "output_type": "execute_result",
          "data": {
            "text/plain": [
              "Index(['Appliances', 'T1', 'RH_1', 'T2', 'RH_2', 'T3', 'RH_3', 'T4', 'RH_4',\n",
              "       'T5', 'RH_5', 'T6', 'RH_6', 'T7', 'RH_7', 'T8', 'RH_8', 'T9', 'RH_9',\n",
              "       'T_out', 'Press_mm_hg', 'RH_out', 'Windspeed', 'Visibility',\n",
              "       'Tdewpoint', 'rv1', 'rv2'],\n",
              "      dtype='object')"
            ]
          },
          "metadata": {
            "tags": []
          },
          "execution_count": 19
        }
      ]
    },
    {
      "cell_type": "code",
      "metadata": {
        "id": "A1iYyEW_SobN",
        "colab_type": "code",
        "colab": {}
      },
      "source": [
        "X = dataframe[['T1','RH_1','T2','RH_2','T3','RH_3','T4','RH_4','T5','RH_5','T6', 'RH_6', 'T7', 'RH_7', 'T8', 'RH_8', 'T9', 'RH_9',\n",
        "       'T_out', 'Press_mm_hg', 'RH_out', 'Windspeed', 'Visibility',\n",
        "       'Tdewpoint', 'rv1', 'rv2']]\n",
        "y = dataframe[['Appliances']]"
      ],
      "execution_count": 31,
      "outputs": []
    },
    {
      "cell_type": "code",
      "metadata": {
        "id": "LHM2kpBtX5xF",
        "colab_type": "code",
        "colab": {}
      },
      "source": [
        "from sklearn.model_selection import train_test_split"
      ],
      "execution_count": 32,
      "outputs": []
    },
    {
      "cell_type": "code",
      "metadata": {
        "id": "NIkuXj8nYkIh",
        "colab_type": "code",
        "colab": {}
      },
      "source": [
        "X_train,X_test,y_train,y_test = train_test_split(X, y, test_size=0.3, random_state=42)"
      ],
      "execution_count": 33,
      "outputs": []
    },
    {
      "cell_type": "code",
      "metadata": {
        "id": "l0-m328TZjvk",
        "colab_type": "code",
        "colab": {
          "base_uri": "https://localhost:8080/",
          "height": 238
        },
        "outputId": "8c411c9f-029f-47de-c22e-8f21ae236f13"
      },
      "source": [
        "from sklearn import preprocessing\n",
        "mm_scaler = preprocessing.MinMaxScaler()\n",
        "X_train_minmax = mm_scaler.fit_transform(X_train)\n",
        "mm_scaler.transform(X_test)"
      ],
      "execution_count": 34,
      "outputs": [
        {
          "output_type": "execute_result",
          "data": {
            "text/plain": [
              "array([[0.43294615, 0.27554825, 0.12066877, ..., 0.3       , 0.51234794,\n",
              "        0.51234794],\n",
              "       [0.53854277, 0.85778509, 0.37727163, ..., 0.35454545, 0.46937859,\n",
              "        0.46937859],\n",
              "       [0.48574446, 0.27883772, 0.11146111, ..., 0.19090909, 0.00259746,\n",
              "        0.00259746],\n",
              "       ...,\n",
              "       [0.43681802, 0.40712719, 0.18899927, ..., 0.51742424, 0.79266914,\n",
              "        0.79266914],\n",
              "       [0.55015839, 0.46732456, 0.33438333, ..., 0.52272727, 0.60824256,\n",
              "        0.60824256],\n",
              "       [0.43294615, 0.50219298, 0.21322995, ..., 0.74393939, 0.19877963,\n",
              "        0.19877963]])"
            ]
          },
          "metadata": {
            "tags": []
          },
          "execution_count": 34
        }
      ]
    },
    {
      "cell_type": "code",
      "metadata": {
        "id": "HsshTGdyaPAu",
        "colab_type": "code",
        "colab": {}
      },
      "source": [
        "X_minmax = pd.DataFrame(mm_scaler.transform(X_test), columns=['T1','RH_1','T2','RH_2','T3','RH_3','T4','RH_4','T5','RH_5','T6', 'RH_6', 'T7', 'RH_7', 'T8', 'RH_8', 'T9', 'RH_9',\n",
        "       'T_out', 'Press_mm_hg', 'RH_out', 'Windspeed', 'Visibility',\n",
        "       'Tdewpoint', 'rv1', 'rv2'])"
      ],
      "execution_count": 35,
      "outputs": []
    },
    {
      "cell_type": "code",
      "metadata": {
        "id": "egTR-FwcanPj",
        "colab_type": "code",
        "colab": {
          "base_uri": "https://localhost:8080/",
          "height": 224
        },
        "outputId": "fc6e1678-7b75-4ed7-8966-67d3a3ae2276"
      },
      "source": [
        "X_minmax.head()"
      ],
      "execution_count": 36,
      "outputs": [
        {
          "output_type": "execute_result",
          "data": {
            "text/html": [
              "<div>\n",
              "<style scoped>\n",
              "    .dataframe tbody tr th:only-of-type {\n",
              "        vertical-align: middle;\n",
              "    }\n",
              "\n",
              "    .dataframe tbody tr th {\n",
              "        vertical-align: top;\n",
              "    }\n",
              "\n",
              "    .dataframe thead th {\n",
              "        text-align: right;\n",
              "    }\n",
              "</style>\n",
              "<table border=\"1\" class=\"dataframe\">\n",
              "  <thead>\n",
              "    <tr style=\"text-align: right;\">\n",
              "      <th></th>\n",
              "      <th>T1</th>\n",
              "      <th>RH_1</th>\n",
              "      <th>T2</th>\n",
              "      <th>RH_2</th>\n",
              "      <th>T3</th>\n",
              "      <th>RH_3</th>\n",
              "      <th>T4</th>\n",
              "      <th>RH_4</th>\n",
              "      <th>T5</th>\n",
              "      <th>RH_5</th>\n",
              "      <th>T6</th>\n",
              "      <th>RH_6</th>\n",
              "      <th>T7</th>\n",
              "      <th>RH_7</th>\n",
              "      <th>T8</th>\n",
              "      <th>RH_8</th>\n",
              "      <th>T9</th>\n",
              "      <th>RH_9</th>\n",
              "      <th>T_out</th>\n",
              "      <th>Press_mm_hg</th>\n",
              "      <th>RH_out</th>\n",
              "      <th>Windspeed</th>\n",
              "      <th>Visibility</th>\n",
              "      <th>Tdewpoint</th>\n",
              "      <th>rv1</th>\n",
              "      <th>rv2</th>\n",
              "    </tr>\n",
              "  </thead>\n",
              "  <tbody>\n",
              "    <tr>\n",
              "      <th>0</th>\n",
              "      <td>0.432946</td>\n",
              "      <td>0.275548</td>\n",
              "      <td>0.120669</td>\n",
              "      <td>0.543362</td>\n",
              "      <td>0.256730</td>\n",
              "      <td>0.380122</td>\n",
              "      <td>0.419820</td>\n",
              "      <td>0.254822</td>\n",
              "      <td>0.312470</td>\n",
              "      <td>0.319301</td>\n",
              "      <td>0.210623</td>\n",
              "      <td>0.635165</td>\n",
              "      <td>0.587327</td>\n",
              "      <td>0.371322</td>\n",
              "      <td>0.619049</td>\n",
              "      <td>0.347755</td>\n",
              "      <td>0.457856</td>\n",
              "      <td>0.408251</td>\n",
              "      <td>0.217578</td>\n",
              "      <td>0.921287</td>\n",
              "      <td>0.846491</td>\n",
              "      <td>0.166667</td>\n",
              "      <td>0.953846</td>\n",
              "      <td>0.300000</td>\n",
              "      <td>0.512348</td>\n",
              "      <td>0.512348</td>\n",
              "    </tr>\n",
              "    <tr>\n",
              "      <th>1</th>\n",
              "      <td>0.538543</td>\n",
              "      <td>0.857785</td>\n",
              "      <td>0.377272</td>\n",
              "      <td>0.724710</td>\n",
              "      <td>0.368339</td>\n",
              "      <td>0.956224</td>\n",
              "      <td>0.489489</td>\n",
              "      <td>0.553364</td>\n",
              "      <td>0.224346</td>\n",
              "      <td>0.423819</td>\n",
              "      <td>0.249417</td>\n",
              "      <td>0.971587</td>\n",
              "      <td>0.141866</td>\n",
              "      <td>0.573533</td>\n",
              "      <td>0.394568</td>\n",
              "      <td>0.615604</td>\n",
              "      <td>0.145682</td>\n",
              "      <td>0.622241</td>\n",
              "      <td>0.247588</td>\n",
              "      <td>0.588600</td>\n",
              "      <td>0.868421</td>\n",
              "      <td>0.214286</td>\n",
              "      <td>0.400000</td>\n",
              "      <td>0.354545</td>\n",
              "      <td>0.469379</td>\n",
              "      <td>0.469379</td>\n",
              "    </tr>\n",
              "    <tr>\n",
              "      <th>2</th>\n",
              "      <td>0.485744</td>\n",
              "      <td>0.278838</td>\n",
              "      <td>0.111461</td>\n",
              "      <td>0.583358</td>\n",
              "      <td>0.371109</td>\n",
              "      <td>0.300670</td>\n",
              "      <td>0.467568</td>\n",
              "      <td>0.235409</td>\n",
              "      <td>0.408027</td>\n",
              "      <td>0.153024</td>\n",
              "      <td>0.167929</td>\n",
              "      <td>0.504853</td>\n",
              "      <td>0.510719</td>\n",
              "      <td>0.144495</td>\n",
              "      <td>0.530363</td>\n",
              "      <td>0.343614</td>\n",
              "      <td>0.468262</td>\n",
              "      <td>0.377621</td>\n",
              "      <td>0.167203</td>\n",
              "      <td>0.858472</td>\n",
              "      <td>0.776316</td>\n",
              "      <td>0.142857</td>\n",
              "      <td>0.984615</td>\n",
              "      <td>0.190909</td>\n",
              "      <td>0.002597</td>\n",
              "      <td>0.002597</td>\n",
              "    </tr>\n",
              "    <tr>\n",
              "      <th>3</th>\n",
              "      <td>0.485744</td>\n",
              "      <td>0.460855</td>\n",
              "      <td>0.566271</td>\n",
              "      <td>0.416837</td>\n",
              "      <td>0.401573</td>\n",
              "      <td>0.381679</td>\n",
              "      <td>0.656757</td>\n",
              "      <td>0.300529</td>\n",
              "      <td>0.411212</td>\n",
              "      <td>0.198020</td>\n",
              "      <td>0.500874</td>\n",
              "      <td>0.094001</td>\n",
              "      <td>0.440731</td>\n",
              "      <td>0.254824</td>\n",
              "      <td>0.447971</td>\n",
              "      <td>0.290953</td>\n",
              "      <td>0.561915</td>\n",
              "      <td>0.388797</td>\n",
              "      <td>0.445338</td>\n",
              "      <td>0.895696</td>\n",
              "      <td>0.616228</td>\n",
              "      <td>0.369048</td>\n",
              "      <td>0.600000</td>\n",
              "      <td>0.468939</td>\n",
              "      <td>0.205668</td>\n",
              "      <td>0.205668</td>\n",
              "    </tr>\n",
              "    <tr>\n",
              "      <th>4</th>\n",
              "      <td>0.335093</td>\n",
              "      <td>0.266557</td>\n",
              "      <td>0.026411</td>\n",
              "      <td>0.571554</td>\n",
              "      <td>0.232635</td>\n",
              "      <td>0.356753</td>\n",
              "      <td>0.374775</td>\n",
              "      <td>0.288647</td>\n",
              "      <td>0.244625</td>\n",
              "      <td>0.284685</td>\n",
              "      <td>0.154332</td>\n",
              "      <td>0.710111</td>\n",
              "      <td>0.472888</td>\n",
              "      <td>0.385440</td>\n",
              "      <td>0.530363</td>\n",
              "      <td>0.342358</td>\n",
              "      <td>0.427680</td>\n",
              "      <td>0.477373</td>\n",
              "      <td>0.145766</td>\n",
              "      <td>0.938736</td>\n",
              "      <td>0.912281</td>\n",
              "      <td>0.285714</td>\n",
              "      <td>0.735897</td>\n",
              "      <td>0.234091</td>\n",
              "      <td>0.214886</td>\n",
              "      <td>0.214886</td>\n",
              "    </tr>\n",
              "  </tbody>\n",
              "</table>\n",
              "</div>"
            ],
            "text/plain": [
              "         T1      RH_1        T2  ...  Tdewpoint       rv1       rv2\n",
              "0  0.432946  0.275548  0.120669  ...   0.300000  0.512348  0.512348\n",
              "1  0.538543  0.857785  0.377272  ...   0.354545  0.469379  0.469379\n",
              "2  0.485744  0.278838  0.111461  ...   0.190909  0.002597  0.002597\n",
              "3  0.485744  0.460855  0.566271  ...   0.468939  0.205668  0.205668\n",
              "4  0.335093  0.266557  0.026411  ...   0.234091  0.214886  0.214886\n",
              "\n",
              "[5 rows x 26 columns]"
            ]
          },
          "metadata": {
            "tags": []
          },
          "execution_count": 36
        }
      ]
    },
    {
      "cell_type": "code",
      "metadata": {
        "id": "NHL04tHCsTXc",
        "colab_type": "code",
        "colab": {
          "base_uri": "https://localhost:8080/",
          "height": 34
        },
        "outputId": "51df2aca-1b82-4aab-c2ef-4426c3fae518"
      },
      "source": [
        "X_minmax.mean().min()"
      ],
      "execution_count": 75,
      "outputs": [
        {
          "output_type": "execute_result",
          "data": {
            "text/plain": [
              "0.2895431859621089"
            ]
          },
          "metadata": {
            "tags": []
          },
          "execution_count": 75
        }
      ]
    },
    {
      "cell_type": "code",
      "metadata": {
        "id": "-RbLFl8pr58-",
        "colab_type": "code",
        "colab": {
          "base_uri": "https://localhost:8080/",
          "height": 476
        },
        "outputId": "ba842c6e-681e-4b60-8264-d64f745920e1"
      },
      "source": [
        "X_minmax.mean()==0.2895431859621089"
      ],
      "execution_count": 77,
      "outputs": [
        {
          "output_type": "execute_result",
          "data": {
            "text/plain": [
              "T1             False\n",
              "RH_1           False\n",
              "T2             False\n",
              "RH_2           False\n",
              "T3             False\n",
              "RH_3           False\n",
              "T4             False\n",
              "RH_4           False\n",
              "T5             False\n",
              "RH_5           False\n",
              "T6             False\n",
              "RH_6           False\n",
              "T7             False\n",
              "RH_7           False\n",
              "T8             False\n",
              "RH_8           False\n",
              "T9             False\n",
              "RH_9           False\n",
              "T_out          False\n",
              "Press_mm_hg    False\n",
              "RH_out         False\n",
              "Windspeed       True\n",
              "Visibility     False\n",
              "Tdewpoint      False\n",
              "rv1            False\n",
              "rv2            False\n",
              "dtype: bool"
            ]
          },
          "metadata": {
            "tags": []
          },
          "execution_count": 77
        }
      ]
    },
    {
      "cell_type": "code",
      "metadata": {
        "id": "Ku8L411scX5v",
        "colab_type": "code",
        "colab": {
          "base_uri": "https://localhost:8080/",
          "height": 476
        },
        "outputId": "79aa0998-7294-47a3-ef24-43a497b1a7e6"
      },
      "source": [
        "X_minmax.count()"
      ],
      "execution_count": 29,
      "outputs": [
        {
          "output_type": "execute_result",
          "data": {
            "text/plain": [
              "T1             5921\n",
              "RH_1           5921\n",
              "T2             5921\n",
              "RH_2           5921\n",
              "T3             5921\n",
              "RH_3           5921\n",
              "T4             5921\n",
              "RH_4           5921\n",
              "T5             5921\n",
              "RH_5           5921\n",
              "T6             5921\n",
              "RH_6           5921\n",
              "T7             5921\n",
              "RH_7           5921\n",
              "T8             5921\n",
              "RH_8           5921\n",
              "T9             5921\n",
              "RH_9           5921\n",
              "T_out          5921\n",
              "Press_mm_hg    5921\n",
              "RH_out         5921\n",
              "Windspeed      5921\n",
              "Visibility     5921\n",
              "Tdewpoint      5921\n",
              "rv1            5921\n",
              "rv2            5921\n",
              "dtype: int64"
            ]
          },
          "metadata": {
            "tags": []
          },
          "execution_count": 29
        }
      ]
    },
    {
      "cell_type": "code",
      "metadata": {
        "id": "I303BrPaa0MZ",
        "colab_type": "code",
        "colab": {}
      },
      "source": [
        "from sklearn.multioutput import MultiOutputRegressor\n",
        "from sklearn.linear_model import LinearRegression\n",
        "from sklearn.linear_model import Ridge\n",
        "from sklearn.linear_model import Lasso"
      ],
      "execution_count": 91,
      "outputs": []
    },
    {
      "cell_type": "code",
      "metadata": {
        "id": "N63E6QKJbOPz",
        "colab_type": "code",
        "colab": {}
      },
      "source": [
        "mlm = LinearRegression(Lasso(alpha=0.001, random_state=42))\n",
        "mlm.fit(X_train, y_train)\n",
        "y_pred = mlm.predict(X_test)\n",
        "y_pred = pd.DataFrame(y_pred, columns=['Appliances'])"
      ],
      "execution_count": 99,
      "outputs": []
    },
    {
      "cell_type": "code",
      "metadata": {
        "id": "OegrRVVjdxBG",
        "colab_type": "code",
        "colab": {
          "base_uri": "https://localhost:8080/",
          "height": 282
        },
        "outputId": "47144c9b-cf45-433a-8f3c-7fc8134097af"
      },
      "source": [
        "plt.plot(y_test,y_pred,'.')"
      ],
      "execution_count": 43,
      "outputs": [
        {
          "output_type": "execute_result",
          "data": {
            "text/plain": [
              "[<matplotlib.lines.Line2D at 0x7f7698399cc0>]"
            ]
          },
          "metadata": {
            "tags": []
          },
          "execution_count": 43
        },
        {
          "output_type": "display_data",
          "data": {
            "image/png": "[encoded data removed]",
            "text/plain": [
              "<Figure size 432x288 with 1 Axes>"
            ]
          },
          "metadata": {
            "tags": [],
            "needs_background": "light"
          }
        }
      ]
    },
    {
      "cell_type": "code",
      "metadata": {
        "id": "7iHOxS_Regir",
        "colab_type": "code",
        "colab": {}
      },
      "source": [
        "x1 = dataframe[['T2']]\n",
        "y1 = dataframe[['T6']]"
      ],
      "execution_count": 100,
      "outputs": []
    },
    {
      "cell_type": "code",
      "metadata": {
        "id": "-F9DCjlrhupP",
        "colab_type": "code",
        "colab": {}
      },
      "source": [
        "from sklearn.model_selection import train_test_split"
      ],
      "execution_count": 101,
      "outputs": []
    },
    {
      "cell_type": "code",
      "metadata": {
        "id": "ZcnhtCMnhwyt",
        "colab_type": "code",
        "colab": {}
      },
      "source": [
        "X1_train,X1_test,y1_train,y1_test = train_test_split(x1, y1, test_size=0.3, random_state=42)"
      ],
      "execution_count": 102,
      "outputs": []
    },
    {
      "cell_type": "code",
      "metadata": {
        "id": "7qnF54WlhShd",
        "colab_type": "code",
        "colab": {}
      },
      "source": [
        "slm = LinearRegression(Lasso(alpha=0.001))\n",
        "slm.fit(X1_train, y1_train)\n",
        "y1_pred = slm.predict(X1_test)\n",
        "y1_pred = pd.DataFrame(y1_pred, columns=['T6'])"
      ],
      "execution_count": 103,
      "outputs": []
    },
    {
      "cell_type": "code",
      "metadata": {
        "id": "LvCsfzm3te_K",
        "colab_type": "code",
        "colab": {}
      },
      "source": [
        "slm = LinearRegression()\n",
        "slm.fit(X1_train, y1_train)\n",
        "y1_pred = slm.predict(X1_test)\n",
        "y1_pred = pd.DataFrame(y1_pred, columns=['T6'])"
      ],
      "execution_count": 98,
      "outputs": []
    },
    {
      "cell_type": "code",
      "metadata": {
        "id": "9ywTf4gTtklG",
        "colab_type": "code",
        "colab": {
          "base_uri": "https://localhost:8080/",
          "height": 283
        },
        "outputId": "81e3fe2d-7362-4afc-aef7-f08948267a3d"
      },
      "source": [
        "plt.plot(y1_test,y1_pred,'.')"
      ],
      "execution_count": 82,
      "outputs": [
        {
          "output_type": "execute_result",
          "data": {
            "text/plain": [
              "[<matplotlib.lines.Line2D at 0x7f7696cfd7f0>]"
            ]
          },
          "metadata": {
            "tags": []
          },
          "execution_count": 82
        },
        {
          "output_type": "display_data",
          "data": {
            "image/png": "[encoded data removed]",
            "text/plain": [
              "<Figure size 432x288 with 1 Axes>"
            ]
          },
          "metadata": {
            "tags": [],
            "needs_background": "light"
          }
        }
      ]
    },
    {
      "cell_type": "code",
      "metadata": {
        "id": "nJ_492iAlZl8",
        "colab_type": "code",
        "colab": {
          "base_uri": "https://localhost:8080/",
          "height": 283
        },
        "outputId": "1efe1190-d2f3-46fc-8672-249581e6275c"
      },
      "source": [
        "plt.plot(y1_test,y1_pred,'.')"
      ],
      "execution_count": 80,
      "outputs": [
        {
          "output_type": "execute_result",
          "data": {
            "text/plain": [
              "[<matplotlib.lines.Line2D at 0x7f7696d999b0>]"
            ]
          },
          "metadata": {
            "tags": []
          },
          "execution_count": 80
        },
        {
          "output_type": "display_data",
          "data": {
            "image/png": "[encoded data removed]",
            "text/plain": [
              "<Figure size 432x288 with 1 Axes>"
            ]
          },
          "metadata": {
            "tags": [],
            "needs_background": "light"
          }
        }
      ]
    },
    {
      "cell_type": "code",
      "metadata": {
        "id": "96Cl5BVRl5ZB",
        "colab_type": "code",
        "colab": {
          "base_uri": "https://localhost:8080/",
          "height": 34
        },
        "outputId": "7a3ab610-efd1-4cef-d527-8c5fbb876e2b"
      },
      "source": [
        "from sklearn.metrics import r2_score\n",
        "r2_score = r2_score(y1_test,y1_pred)\n",
        "round(r2_score,2)"
      ],
      "execution_count": 66,
      "outputs": [
        {
          "output_type": "execute_result",
          "data": {
            "text/plain": [
              "0.64"
            ]
          },
          "metadata": {
            "tags": []
          },
          "execution_count": 66
        }
      ]
    },
    {
      "cell_type": "code",
      "metadata": {
        "id": "DdPk1DDamnrg",
        "colab_type": "code",
        "colab": {}
      },
      "source": [
        "from sklearn.preprocessing import MinMaxScaler\n",
        "scaler = MinMaxScaler()\n",
        "norm = pd.DataFrame(scaler.fit_transform(dataframe), columns=dataframe.columns)\n",
        "features_df = norm.drop(columns=['Appliances'])\n",
        "target = norm['Appliances']"
      ],
      "execution_count": 105,
      "outputs": []
    },
    {
      "cell_type": "code",
      "metadata": {
        "id": "uNaRsiXmn4kT",
        "colab_type": "code",
        "colab": {}
      },
      "source": [
        "x2_train,x2_test,y2_train,y2_test = train_test_split(features_df, target, test_size=0.3, random_state=42)"
      ],
      "execution_count": 106,
      "outputs": []
    },
    {
      "cell_type": "code",
      "metadata": {
        "id": "ZKxMop3VodY1",
        "colab_type": "code",
        "colab": {
          "base_uri": "https://localhost:8080/",
          "height": 153
        },
        "outputId": "583946ca-bcd1-4109-9bab-85cc4af6fe24"
      },
      "source": [
        "slm.fit(x2_train,y2_train)"
      ],
      "execution_count": 107,
      "outputs": [
        {
          "output_type": "execute_result",
          "data": {
            "text/plain": [
              "LinearRegression(copy_X=True,\n",
              "                 fit_intercept=Lasso(alpha=0.001, copy_X=True,\n",
              "                                     fit_intercept=True, max_iter=1000,\n",
              "                                     normalize=False, positive=False,\n",
              "                                     precompute=False, random_state=None,\n",
              "                                     selection='cyclic', tol=0.0001,\n",
              "                                     warm_start=False),\n",
              "                 n_jobs=None, normalize=False)"
            ]
          },
          "metadata": {
            "tags": []
          },
          "execution_count": 107
        }
      ]
    },
    {
      "cell_type": "code",
      "metadata": {
        "id": "8LL7LMSLowZ9",
        "colab_type": "code",
        "colab": {}
      },
      "source": [
        "y2_pred = slm.predict(x2_test)"
      ],
      "execution_count": 108,
      "outputs": []
    },
    {
      "cell_type": "code",
      "metadata": {
        "id": "4Et_HgzWpIW0",
        "colab_type": "code",
        "colab": {
          "base_uri": "https://localhost:8080/",
          "height": 34
        },
        "outputId": "2e41c4eb-6215-4afa-a307-95571e88fcaa"
      },
      "source": [
        "from sklearn.metrics import mean_absolute_error\n",
        "mae = mean_absolute_error(y2_test,y2_pred)\n",
        "round(mae,2)"
      ],
      "execution_count": 65,
      "outputs": [
        {
          "output_type": "execute_result",
          "data": {
            "text/plain": [
              "0.05"
            ]
          },
          "metadata": {
            "tags": []
          },
          "execution_count": 65
        }
      ]
    },
    {
      "cell_type": "code",
      "metadata": {
        "id": "tqSkXxccp_6w",
        "colab_type": "code",
        "colab": {
          "base_uri": "https://localhost:8080/",
          "height": 34
        },
        "outputId": "36676c91-67aa-4a06-e4ad-24cae120a7f2"
      },
      "source": [
        "rss = np.sum(np.square(y2_test-y2_pred))\n",
        "round(rss,2)"
      ],
      "execution_count": 67,
      "outputs": [
        {
          "output_type": "execute_result",
          "data": {
            "text/plain": [
              "45.35"
            ]
          },
          "metadata": {
            "tags": []
          },
          "execution_count": 67
        }
      ]
    },
    {
      "cell_type": "code",
      "metadata": {
        "id": "h5k28VvWt3qf",
        "colab_type": "code",
        "colab": {
          "base_uri": "https://localhost:8080/",
          "height": 34
        },
        "outputId": "cfa99539-8b96-46f7-d14d-41924ea83865"
      },
      "source": [
        "from sklearn.metrics import mean_squared_error\n",
        "rmse = np.sqrt(mean_absolute_error(y2_test,y2_pred))\n",
        "round(rmse,3)"
      ],
      "execution_count": 109,
      "outputs": [
        {
          "output_type": "execute_result",
          "data": {
            "text/plain": [
              "0.224"
            ]
          },
          "metadata": {
            "tags": []
          },
          "execution_count": 109
        }
      ]
    },
    {
      "cell_type": "code",
      "metadata": {
        "id": "JxPhU2K-qA8T",
        "colab_type": "code",
        "colab": {
          "base_uri": "https://localhost:8080/",
          "height": 34
        },
        "outputId": "43bd5837-57d6-4613-8355-7a1abec23f2b"
      },
      "source": [
        "from sklearn.metrics import mean_squared_error\n",
        "rmse = np.sqrt(mean_absolute_error(y1_test,y1_pred))\n",
        "round(rmse,3)"
      ],
      "execution_count": 104,
      "outputs": [
        {
          "output_type": "execute_result",
          "data": {
            "text/plain": [
              "1.68"
            ]
          },
          "metadata": {
            "tags": []
          },
          "execution_count": 104
        }
      ]
    },
    {
      "cell_type": "code",
      "metadata": {
        "id": "ZQ8V-KwnwrWu",
        "colab_type": "code",
        "colab": {}
      },
      "source": [
        ""
      ],
      "execution_count": null,
      "outputs": []
    }
  ]
}